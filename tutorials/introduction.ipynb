{
 "cells": [
  {
   "cell_type": "markdown",
   "source": [
    "# Introduction\n",
    "\n",
    "## First algorithm\n",
    "This tutorial is made to introduce you to the Gaggle framework. Pytorch experience is recommended but not necessary. In this tutorial, we will go over using the GASupervisor to solve problems! In particular, we'll evolve a population of Neural Networks to solve the MNIST classification problem (https://en.wikipedia.org/wiki/MNIST_database).\n",
    "GPU acceleration is recommended but not necessary.\n",
    "\n",
    "Quick Note: None of the training configurations presented in this tutorial are optimal or even remotely good. These are just chosen to be fast and easy to run even on machines with lower-end hardware. This tutorial's goal is to showcase how the code works, not solving any of the particular problems mentioned."
   ],
   "metadata": {
    "collapsed": false,
    "pycharm": {
     "name": "#%% md\n"
    }
   }
  },
  {
   "cell_type": "code",
   "execution_count": 1,
   "outputs": [
    {
     "name": "stdout",
     "output_type": "stream",
     "text": [
      "Batching is not necessary, will store the entire data on device: cuda\n",
      "Genome size: 1.367e+04 params\n",
      "\n",
      "\u001B[92m--------------------------------------------------------------------------------\n",
      "crossover               : uniform\n",
      "elitism                 : 0.1000\n",
      "eval_every_generation   : 50\n",
      "ga_name                 : simple\n",
      "generations             : 20\n",
      "k_point                 : 1\n",
      "mutate_protected        : False\n",
      "mutation                : normal\n",
      "mutation_chance         : 0.0100\n",
      "mutation_std            : 0.0500\n",
      "num_parents             : 10\n",
      "parent_survival_rate    : 0.5000\n",
      "population_size         : 10\n",
      "save_best_every         : None\n",
      "save_every_epoch        : False\n",
      "selection               : weighted\n",
      "selection_pressure      : 0.5000\n",
      "tournament_size         : 3\n",
      "uniform_mutation_max_val: 1.0000\n",
      "uniform_mutation_min_val: -1.0000\n",
      "use_freshness           : True\n",
      "--------------------------------------------------------------------------------\u001B[0m\n",
      "\n",
      "\n",
      "\u001B[92m--------------------------------------------------------------------------------\n",
      "avg        (len=1): [0.11554999947547913]\n",
      "best       (len=2): [2, 0.17188332974910736]\n",
      "generation: 1/20\n",
      "time_taken: 1.3166\n",
      "worst      (len=2): [0, 0.09109999984502792]\n",
      "--------------------------------------------------------------------------------\u001B[0m\n",
      "\n",
      "\n",
      "\u001B[92m--------------------------------------------------------------------------------\n",
      "New best: 0.17%>0.00%. Saved at '/home/lprfenau/GAG/tutorials/runs/run_00008/best.pt'\n",
      "--------------------------------------------------------------------------------\u001B[0m\n",
      "\n",
      "Test Metrics\n",
      "\n",
      "\u001B[92m--------------------------------------------------------------------------------\n",
      "avg        (len=1): [0.10728999748826026]\n",
      "best       (len=2): [2, 0.16920000314712524]\n",
      "time_taken: 0.0637\n",
      "worst      (len=2): [1, 0.06610000133514404]\n",
      "--------------------------------------------------------------------------------\u001B[0m\n",
      "\n",
      "\n",
      "\u001B[92m--------------------------------------------------------------------------------\n",
      "avg        (len=1): [0.10760833472013473]\n",
      "best       (len=2): [2, 0.17188332974910736]\n",
      "generation: 2/20\n",
      "time_taken: 0.3160\n",
      "worst      (len=2): [1, 0.06586666405200958]\n",
      "--------------------------------------------------------------------------------\u001B[0m\n",
      "\n",
      "\n",
      "\u001B[92m--------------------------------------------------------------------------------\n",
      "avg        (len=1): [0.09881000109016895]\n",
      "best       (len=2): [2, 0.17188332974910736]\n",
      "generation: 3/20\n",
      "time_taken: 0.3211\n",
      "worst      (len=2): [4, 0.009666666388511658]\n",
      "--------------------------------------------------------------------------------\u001B[0m\n",
      "\n",
      "\n",
      "\u001B[92m--------------------------------------------------------------------------------\n",
      "avg        (len=1): [0.10491000097244978]\n",
      "best       (len=2): [2, 0.17188332974910736]\n",
      "generation: 4/20\n",
      "time_taken: 0.3175\n",
      "worst      (len=2): [4, 0.019983334466814995]\n",
      "--------------------------------------------------------------------------------\u001B[0m\n",
      "\n",
      "\n",
      "\u001B[92m--------------------------------------------------------------------------------\n",
      "avg        (len=1): [0.12593833431601525]\n",
      "best       (len=2): [2, 0.17188332974910736]\n",
      "generation: 5/20\n",
      "time_taken: 0.3146\n",
      "worst      (len=2): [4, 0.07415000349283218]\n",
      "--------------------------------------------------------------------------------\u001B[0m\n",
      "\n",
      "\n",
      "\u001B[92m--------------------------------------------------------------------------------\n",
      "avg        (len=1): [0.1264633320271969]\n",
      "best       (len=2): [7, 0.17249999940395355]\n",
      "generation: 6/20\n",
      "time_taken: 0.3208\n",
      "worst      (len=2): [9, 0.09056666493415833]\n",
      "--------------------------------------------------------------------------------\u001B[0m\n",
      "\n",
      "\n",
      "\u001B[92m--------------------------------------------------------------------------------\n",
      "avg        (len=1): [0.13726666793227196]\n",
      "best       (len=2): [7, 0.17249999940395355]\n",
      "generation: 7/20\n",
      "time_taken: 0.3199\n",
      "worst      (len=2): [4, 0.09915000200271606]\n",
      "--------------------------------------------------------------------------------\u001B[0m\n",
      "\n",
      "\n",
      "\u001B[92m--------------------------------------------------------------------------------\n",
      "avg        (len=1): [0.12652666941285134]\n",
      "best       (len=2): [7, 0.17249999940395355]\n",
      "generation: 8/20\n",
      "time_taken: 0.3166\n",
      "worst      (len=2): [4, 0.0917000025510788]\n",
      "--------------------------------------------------------------------------------\u001B[0m\n",
      "\n",
      "\n",
      "\u001B[92m--------------------------------------------------------------------------------\n",
      "avg        (len=1): [0.132961668074131]\n",
      "best       (len=2): [2, 0.17251667380332947]\n",
      "generation: 9/20\n",
      "time_taken: 0.3205\n",
      "worst      (len=2): [4, 0.07386666536331177]\n",
      "--------------------------------------------------------------------------------\u001B[0m\n",
      "\n",
      "\n",
      "\u001B[92m--------------------------------------------------------------------------------\n",
      "avg        (len=1): [0.13843833431601524]\n",
      "best       (len=2): [0, 0.17288333177566528]\n",
      "generation: 10/20\n",
      "time_taken: 0.3158\n",
      "worst      (len=2): [8, 0.0952666699886322]\n",
      "--------------------------------------------------------------------------------\u001B[0m\n",
      "\n",
      "\n",
      "\u001B[92m--------------------------------------------------------------------------------\n",
      "avg        (len=1): [0.13400166630744934]\n",
      "best       (len=2): [0, 0.17288333177566528]\n",
      "generation: 11/20\n",
      "time_taken: 0.3207\n",
      "worst      (len=2): [5, 0.08664999902248383]\n",
      "--------------------------------------------------------------------------------\u001B[0m\n",
      "\n",
      "\n",
      "\u001B[92m--------------------------------------------------------------------------------\n",
      "avg        (len=1): [0.16978333443403243]\n",
      "best       (len=2): [4, 0.17721666395664215]\n",
      "generation: 12/20\n",
      "time_taken: 0.3148\n",
      "worst      (len=2): [1, 0.15896667540073395]\n",
      "--------------------------------------------------------------------------------\u001B[0m\n",
      "\n",
      "\n",
      "\u001B[92m--------------------------------------------------------------------------------\n",
      "avg        (len=1): [0.16991666704416275]\n",
      "best       (len=2): [4, 0.17721666395664215]\n",
      "generation: 13/20\n",
      "time_taken: 0.3148\n",
      "worst      (len=2): [7, 0.16474999487400055]\n",
      "--------------------------------------------------------------------------------\u001B[0m\n",
      "\n",
      "\n",
      "\u001B[92m--------------------------------------------------------------------------------\n",
      "avg        (len=1): [0.16957500129938125]\n",
      "best       (len=2): [1, 0.18101666867733002]\n",
      "generation: 14/20\n",
      "time_taken: 0.3160\n",
      "worst      (len=2): [2, 0.16371667385101318]\n",
      "--------------------------------------------------------------------------------\u001B[0m\n",
      "\n",
      "\n",
      "\u001B[92m--------------------------------------------------------------------------------\n",
      "avg        (len=1): [0.171330001950264]\n",
      "best       (len=2): [0, 0.18146666884422302]\n",
      "generation: 15/20\n",
      "time_taken: 0.3266\n",
      "worst      (len=2): [2, 0.1579333394765854]\n",
      "--------------------------------------------------------------------------------\u001B[0m\n",
      "\n",
      "\n",
      "\u001B[92m--------------------------------------------------------------------------------\n",
      "avg        (len=1): [0.1749366655945778]\n",
      "best       (len=2): [1, 0.18230000138282776]\n",
      "generation: 16/20\n",
      "time_taken: 0.3172\n",
      "worst      (len=2): [2, 0.16404999792575836]\n",
      "--------------------------------------------------------------------------------\u001B[0m\n",
      "\n",
      "\n",
      "\u001B[92m--------------------------------------------------------------------------------\n",
      "avg        (len=1): [0.1724500000476837]\n",
      "best       (len=2): [1, 0.18230000138282776]\n",
      "generation: 17/20\n",
      "time_taken: 0.3231\n",
      "worst      (len=2): [9, 0.1618666648864746]\n",
      "--------------------------------------------------------------------------------\u001B[0m\n",
      "\n",
      "\n",
      "\u001B[92m--------------------------------------------------------------------------------\n",
      "avg        (len=1): [0.16839833408594132]\n",
      "best       (len=2): [1, 0.18230000138282776]\n",
      "generation: 18/20\n",
      "time_taken: 0.3163\n",
      "worst      (len=2): [9, 0.13958333432674408]\n",
      "--------------------------------------------------------------------------------\u001B[0m\n",
      "\n",
      "\n",
      "\u001B[92m--------------------------------------------------------------------------------\n",
      "avg        (len=1): [0.16807833164930344]\n",
      "best       (len=2): [1, 0.18230000138282776]\n",
      "generation: 19/20\n",
      "time_taken: 0.3150\n",
      "worst      (len=2): [8, 0.15603333711624146]\n",
      "--------------------------------------------------------------------------------\u001B[0m\n",
      "\n",
      "\n",
      "\u001B[92m--------------------------------------------------------------------------------\n",
      "avg        (len=1): [0.1657083347439766]\n",
      "best       (len=2): [1, 0.18230000138282776]\n",
      "generation: 20/20\n",
      "time_taken: 0.3148\n",
      "worst      (len=2): [2, 0.14393334090709686]\n",
      "--------------------------------------------------------------------------------\u001B[0m\n",
      "\n",
      "\n",
      "\u001B[92m--------------------------------------------------------------------------------\n",
      "New best: 0.18%>0.17%. Saved at '/home/lprfenau/GAG/tutorials/runs/run_00008/best.pt'\n",
      "--------------------------------------------------------------------------------\u001B[0m\n",
      "\n",
      "Test Metrics\n",
      "\n",
      "\u001B[92m--------------------------------------------------------------------------------\n",
      "avg        (len=1): [0.16015999615192414]\n",
      "best       (len=2): [1, 0.18079999089241028]\n",
      "time_taken: 0.0845\n",
      "worst      (len=2): [7, 0.13490000367164612]\n",
      "--------------------------------------------------------------------------------\u001B[0m\n",
      "\n"
     ]
    },
    {
     "data": {
      "text/plain": "<Figure size 640x480 with 1 Axes>",
      "image/png": "[encoded data removed]"
     },
     "metadata": {},
     "output_type": "display_data"
    }
   ],
   "source": [
    "%load_ext autoreload\n",
    "%autoreload 2\n",
    "%pwd\n",
    "\n",
    "# First we import the required dependencies\n",
    "from gaggle import GASupervisor\n",
    "\n",
    "# We set the device on which to run the code, if gpu acceleration is available (recommended), this should be set as\n",
    "device=\"cuda\"\n",
    "# otherwise, we use the cpus by default\n",
    "# device=\"cpu\"\n",
    "\n",
    "# we now setup the supervisor with the following parameters\n",
    "# we want to solve MNIST\n",
    "problem_name = \"MNIST\"\n",
    "\n",
    "# we want to evolve a neural network to solve it\n",
    "individual_name = \"nn\"\n",
    "\n",
    "# there are many neural network architectures to choose from, but for now we'll use the snet architecture\n",
    "model_name = \"snet_mnist\"\n",
    "\n",
    "# we can now initialize the Supervisor with the chosen parameters. We choose a population size of 10 and match the number of parents. We also choose a small number of generations.\n",
    "supervisor = GASupervisor(population_size=10, num_parents=10, generations=20, problem_name=problem_name, individual_name=individual_name, model_name=model_name, device=device, display_train_metrics=True, display_test_metrics=False)\n",
    "\n",
    "# All that is left is to run it!\n",
    "supervisor.run()\n"
   ],
   "metadata": {
    "collapsed": false,
    "pycharm": {
     "name": "#%%\n"
    }
   }
  },
  {
   "cell_type": "markdown",
   "source": [
    "## Choosing your operators\n",
    "\n",
    "As you may have noticed in the previous code snippet, nowhere did we mention any of the typical GA operators. That is because the GASupervisor used the default operators when there isn't any specified.\n",
    "If we want to use different operators than the ones used by default, all we have to do is specify them and any of their associated arguments when initializing the GASupervisor.\n",
    "\n",
    "By default, we use uniform crossover, let's change that to k_points with 3 points."
   ],
   "metadata": {
    "collapsed": false,
    "pycharm": {
     "name": "#%% md\n"
    }
   }
  },
  {
   "cell_type": "code",
   "execution_count": 2,
   "outputs": [],
   "source": [
    "crossover = \"k_point\"\n",
    "k_point = 3\n"
   ],
   "metadata": {
    "collapsed": false,
    "pycharm": {
     "name": "#%%\n"
    }
   }
  },
  {
   "cell_type": "markdown",
   "source": [
    "We also now want to use simple tournament selection instead of the default weighted (roulette wheel) selection."
   ],
   "metadata": {
    "collapsed": false,
    "pycharm": {
     "name": "#%% md\n"
    }
   }
  },
  {
   "cell_type": "code",
   "execution_count": 3,
   "outputs": [],
   "source": [
    "selection = \"simple_tournament\""
   ],
   "metadata": {
    "collapsed": false,
    "pycharm": {
     "name": "#%%\n"
    }
   }
  },
  {
   "cell_type": "markdown",
   "source": [
    "Finally, let's now use a different mutation. By default we use the normal distribution mutation. Let's switch it to a uniform distribution mutation.\n",
    "It uses two additional parameters: uniform_mutation_max_val and uniform_mutation_min_val which sets the sampling range for the mutation. By default they are 1 and -1."
   ],
   "metadata": {
    "collapsed": false,
    "pycharm": {
     "name": "#%% md\n"
    }
   }
  },
  {
   "cell_type": "code",
   "execution_count": 4,
   "outputs": [],
   "source": [
    "mutation = \"uniform\"\n",
    "uniform_mutation_max_val = 0.5\n",
    "uniform_mutation_min_val = -0.5"
   ],
   "metadata": {
    "collapsed": false,
    "pycharm": {
     "name": "#%%\n"
    }
   }
  },
  {
   "cell_type": "markdown",
   "source": [
    "We can now train our model with these new parameters."
   ],
   "metadata": {
    "collapsed": false,
    "pycharm": {
     "name": "#%% md\n"
    }
   }
  },
  {
   "cell_type": "code",
   "execution_count": 5,
   "outputs": [
    {
     "name": "stdout",
     "output_type": "stream",
     "text": [
      "Batching is not necessary, will store the entire data on device: cuda\n",
      "Genome size: 1.367e+04 params\n",
      "\n",
      "\u001B[92m--------------------------------------------------------------------------------\n",
      "crossover               : k_point\n",
      "elitism                 : 0.1000\n",
      "eval_every_generation   : 50\n",
      "ga_name                 : simple\n",
      "generations             : 2\n",
      "k_point                 : 3\n",
      "mutate_protected        : False\n",
      "mutation                : uniform\n",
      "mutation_chance         : 0.0100\n",
      "mutation_std            : 0.0500\n",
      "num_parents             : 10\n",
      "parent_survival_rate    : 0.5000\n",
      "population_size         : 10\n",
      "save_best_every         : None\n",
      "save_every_epoch        : False\n",
      "selection               : simple_tournament\n",
      "selection_pressure      : 0.5000\n",
      "tournament_size         : 3\n",
      "uniform_mutation_max_val: 0.5000\n",
      "uniform_mutation_min_val: -0.5000\n",
      "use_freshness           : True\n",
      "--------------------------------------------------------------------------------\u001B[0m\n",
      "\n",
      "\n",
      "\u001B[92m--------------------------------------------------------------------------------\n",
      "avg        (len=1): [0.10631166771054268]\n",
      "best       (len=2): [0, 0.16510000824928284]\n",
      "generation: 1/2\n",
      "time_taken: 0.3593\n",
      "worst      (len=2): [8, 0.08748333156108856]\n",
      "--------------------------------------------------------------------------------\u001B[0m\n",
      "\n",
      "\n",
      "\u001B[92m--------------------------------------------------------------------------------\n",
      "New best: 0.17%>0.00%. Saved at '/home/lprfenau/GAG/tutorials/runs/run_00009/best.pt'\n",
      "--------------------------------------------------------------------------------\u001B[0m\n",
      "\n",
      "Test Metrics\n",
      "\n",
      "\u001B[92m--------------------------------------------------------------------------------\n",
      "avg        (len=1): [0.11695999801158904]\n",
      "best       (len=2): [0, 0.16859999299049377]\n",
      "time_taken: 0.0647\n",
      "worst      (len=2): [9, 0.10189999639987946]\n",
      "--------------------------------------------------------------------------------\u001B[0m\n",
      "\n",
      "\n",
      "\u001B[92m--------------------------------------------------------------------------------\n",
      "avg        (len=1): [0.11581500172615052]\n",
      "best       (len=2): [0, 0.16510000824928284]\n",
      "generation: 2/2\n",
      "time_taken: 0.3181\n",
      "worst      (len=2): [1, 0.09965000301599503]\n",
      "--------------------------------------------------------------------------------\u001B[0m\n",
      "\n",
      "Test Metrics\n",
      "\n",
      "\u001B[92m--------------------------------------------------------------------------------\n",
      "avg        (len=1): [0.11145999729633331]\n",
      "best       (len=2): [0, 0.16859999299049377]\n",
      "time_taken: 0.0604\n",
      "worst      (len=2): [7, 0.0729999989271164]\n",
      "--------------------------------------------------------------------------------\u001B[0m\n",
      "\n"
     ]
    }
   ],
   "source": [
    "supervisor = GASupervisor(crossover=crossover, selection=selection, mutation=mutation, uniform_mutation_max_val=uniform_mutation_max_val, uniform_mutation_min_val=uniform_mutation_min_val, k_point=k_point,population_size=10, num_parents=10, generations=2, problem_name=problem_name, individual_name=individual_name, model_name=model_name, device=device, display_train_metrics=False, display_test_metrics=False)\n",
    "\n",
    "supervisor.run()"
   ],
   "metadata": {
    "collapsed": false,
    "pycharm": {
     "name": "#%%\n"
    }
   }
  },
  {
   "cell_type": "markdown",
   "source": [
    "## Making your own problem to solve\n",
    "\n",
    "Now that we've seen how to solve pre-built problems, let's tackle how to introduce custom problems to our framework using the supervisor.\n",
    "\n",
    "For this, we'll use the well-known benchmark Rastrigin Problem, where the goal is for the genome of individuals to minimize the Rastrigin function specified below.\n",
    "\n",
    "To do this, we'll use one of our default individuals: the PytorchIndividual. It is a simple individual whose stores its genome as a flattened pytorch tensor and returns them when it is called.\n"
   ],
   "metadata": {
    "collapsed": false,
    "pycharm": {
     "name": "#%% md\n"
    }
   }
  },
  {
   "cell_type": "code",
   "execution_count": 6,
   "outputs": [
    {
     "name": "stdout",
     "output_type": "stream",
     "text": [
      "Genome size: 1.000e+02 params\n",
      "\n",
      "\u001B[92m--------------------------------------------------------------------------------\n",
      "crossover               : k_point\n",
      "elitism                 : 0.1000\n",
      "eval_every_generation   : 50\n",
      "ga_name                 : simple\n",
      "generations             : 2\n",
      "k_point                 : 3\n",
      "mutate_protected        : False\n",
      "mutation                : uniform\n",
      "mutation_chance         : 0.0100\n",
      "mutation_std            : 0.0500\n",
      "num_parents             : 10\n",
      "parent_survival_rate    : 0.5000\n",
      "population_size         : 10\n",
      "save_best_every         : None\n",
      "save_every_epoch        : False\n",
      "selection               : simple_tournament\n",
      "selection_pressure      : 0.5000\n",
      "tournament_size         : 3\n",
      "uniform_mutation_max_val: 0.5000\n",
      "uniform_mutation_min_val: -0.5000\n",
      "use_freshness           : True\n",
      "--------------------------------------------------------------------------------\u001B[0m\n",
      "\n",
      "\n",
      "\u001B[92m--------------------------------------------------------------------------------\n",
      "avg        (len=1): [-1042.8187622070313]\n",
      "best       (len=2): [7, -939.2820434570312]\n",
      "generation: 1/2\n",
      "time_taken: 0.0100\n",
      "worst      (len=2): [3, -1150.693359375]\n",
      "--------------------------------------------------------------------------------\u001B[0m\n",
      "\n",
      "Test Metrics\n",
      "\n",
      "\u001B[92m--------------------------------------------------------------------------------\n",
      "avg        (len=1): [-1000.058349609375]\n",
      "best       (len=2): [4, -933.748291015625]\n",
      "time_taken: 0.0021\n",
      "worst      (len=2): [9, -1058.9422607421875]\n",
      "--------------------------------------------------------------------------------\u001B[0m\n",
      "\n",
      "\n",
      "\u001B[92m--------------------------------------------------------------------------------\n",
      "avg        (len=1): [-1000.058349609375]\n",
      "best       (len=2): [4, -933.748291015625]\n",
      "generation: 2/2\n",
      "time_taken: 0.0052\n",
      "worst      (len=2): [9, -1058.9422607421875]\n",
      "--------------------------------------------------------------------------------\u001B[0m\n",
      "\n",
      "Test Metrics\n",
      "\n",
      "\u001B[92m--------------------------------------------------------------------------------\n",
      "avg        (len=1): [-952.3119689941407]\n",
      "best       (len=2): [6, -924.9542236328125]\n",
      "time_taken: 0.0013\n",
      "worst      (len=2): [8, -1031.7515869140625]\n",
      "--------------------------------------------------------------------------------\u001B[0m\n",
      "\n"
     ]
    }
   ],
   "source": [
    "import torch\n",
    "\n",
    "\n",
    "def fitness_function(individual):\n",
    "    # we get the genome as a flattened pytorch tensor\n",
    "    genome = individual()\n",
    "    # we get the size of the genome of the individual (in this case the length of the tensor)\n",
    "    genome_size = individual.get_genome_size()\n",
    "    rastrigin = - (10 * genome_size + torch.sum(genome ** 2 - 10 * torch.cos(2 * torch.pi * genome)))\n",
    "    return rastrigin.cpu().item()\n",
    "\n",
    "# now that we've defined our custom fitness function, we need to specify that we want to use the pytorch individual\n",
    "individual_name = \"pytorch\"\n",
    "\n",
    "# the pytorch individual uses an additional parameter, the size of the individual's genome to create.\n",
    "individual_size = 100\n",
    "\n",
    "# we have to set the problem_name to custom as we are using our own custom fitness function\n",
    "problem_name = \"custom\"\n",
    "\n",
    "# since rastrigin tries to maximize a negative number, we use our roulette wheel selection which has min offset by default to allow for proper selection even with negative valued fitnesses\n",
    "selection = \"weighted\"\n",
    "\n",
    "# we can now create a new supervisor to solve this problem\n",
    "supervisor = GASupervisor(individual_size=individual_size, crossover=crossover, selection=selection, mutation=mutation, uniform_mutation_max_val=uniform_mutation_max_val, uniform_mutation_min_val=uniform_mutation_min_val, k_point=k_point,population_size=10, num_parents=10, generations=2, problem_name=problem_name, individual_name=individual_name, device=device, display_train_metrics=False, display_test_metrics=False)\n",
    "\n",
    "# We now set the fitness function in the supervisor\n",
    "supervisor.set_custom_fitness(fitness_function=fitness_function)\n",
    "\n",
    "# We can now run it\n",
    "supervisor.run()"
   ],
   "metadata": {
    "collapsed": false,
    "pycharm": {
     "name": "#%%\n"
    }
   }
  },
  {
   "cell_type": "code",
   "execution_count": null,
   "outputs": [],
   "source": [],
   "metadata": {
    "collapsed": false,
    "pycharm": {
     "name": "#%%\n"
    }
   }
  }
 ],
 "metadata": {
  "kernelspec": {
   "display_name": "Python 3",
   "language": "python",
   "name": "python3"
  },
  "language_info": {
   "codemirror_mode": {
    "name": "ipython",
    "version": 2
   },
   "file_extension": ".py",
   "mimetype": "text/x-python",
   "name": "python",
   "nbconvert_exporter": "python",
   "pygments_lexer": "ipython2",
   "version": "2.7.6"
  }
 },
 "nbformat": 4,
 "nbformat_minor": 0
}